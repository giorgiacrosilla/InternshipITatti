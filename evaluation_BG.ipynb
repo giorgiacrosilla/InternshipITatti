{
 "cells": [
  {
   "cell_type": "code",
   "execution_count": 6,
   "metadata": {},
   "outputs": [
    {
     "name": "stdout",
     "output_type": "stream",
     "text": [
      "Processed 500 files in total.\n",
      "Number of files with potential transcription looping: 16\n",
      "\n",
      "Files with potential transcription looping:\n",
      "- 32044150448397_002.txt\n",
      "- 32044150448439_024.txt\n",
      "- 32044150448439_033.txt\n",
      "- 32044150448496_042.txt\n",
      "- 32044150448512_020.txt\n",
      "- 32044150448538_032.txt\n",
      "- 32044150448538_036.txt\n",
      "- 32044150448546_040.txt\n",
      "- 32044150448611_024.txt\n",
      "- 32044150448769_003.txt\n",
      "- 32044150448793_026.txt\n",
      "- 32044150448827_048.txt\n",
      "- 32044150448843_019.txt\n",
      "- 32044150448850_034.txt\n",
      "- 32044150448983_017.txt\n",
      "- 32044150449114_009.txt\n"
     ]
    }
   ],
   "source": [
    "import os\n",
    "import re\n",
    "\n",
    "def check_transcription_looping(file_path, check_words=20, min_repeat_length=10, repeat_threshold=0.7):\n",
    "    with open(file_path, 'r', encoding='utf-8') as file:\n",
    "        content = file.read().strip()\n",
    "\n",
    "    words = content.split()\n",
    "    if len(words) < check_words * 2:\n",
    "        return False  # File is too short for meaningful check\n",
    "\n",
    "    # Check the last 'check_words' against the preceding text\n",
    "    end_words = words[-check_words:]\n",
    "    preceding_text = ' '.join(words[:-check_words])\n",
    "\n",
    "    for i in range(len(end_words) - min_repeat_length + 1):\n",
    "        phrase = ' '.join(end_words[i:i+min_repeat_length])\n",
    "        if phrase in preceding_text:\n",
    "            # Found a repeating phrase, now check for extended repetition\n",
    "            extended_phrase = ' '.join(end_words[i:])\n",
    "            matches = sum(1 for word in extended_phrase.split() if word in preceding_text.split()[-len(extended_phrase.split()):])\n",
    "            if matches / len(extended_phrase.split()) >= repeat_threshold:\n",
    "                return True\n",
    "\n",
    "    return False\n",
    "\n",
    "def process_folder(folder_path):\n",
    "    looping_files = []\n",
    "    total_files = 0\n",
    "    \n",
    "    for filename in os.listdir(folder_path):\n",
    "        if filename.endswith('.txt'):\n",
    "            total_files += 1\n",
    "            file_path = os.path.join(folder_path, filename)\n",
    "            \n",
    "            try:\n",
    "                if check_transcription_looping(file_path):\n",
    "                    looping_files.append(filename)\n",
    "            except Exception as e:\n",
    "                print(f\"Error processing {filename}: {str(e)}\")\n",
    "    \n",
    "    return looping_files, total_files\n",
    "\n",
    "# Example usage\n",
    "folder_path = 'transcriptions_BGpixtral/txt/'\n",
    "looping_files, total_files = process_folder(folder_path)\n",
    "\n",
    "print(f\"Processed {total_files} files in total.\")\n",
    "print(f\"Number of files with potential transcription looping: {len(looping_files)}\")\n",
    "\n",
    "if looping_files:\n",
    "    print(\"\\nFiles with potential transcription looping:\")\n",
    "    for file in looping_files:\n",
    "        print(f\"- {file}\")\n",
    "else:\n",
    "    print(\"No transcription looping detected in any files.\")"
   ]
  },
  {
   "cell_type": "code",
   "execution_count": 42,
   "metadata": {},
   "outputs": [
    {
     "name": "stdout",
     "output_type": "stream",
     "text": [
      "Processed 500 files in total.\n",
      "Number of files with potential transcription looping: 0\n",
      "No transcription looping detected in any files.\n"
     ]
    }
   ],
   "source": [
    "import os\n",
    "import re\n",
    "\n",
    "def check_transcription_looping(file_path, check_words=20, min_repeat_length=10, repeat_threshold=0.7):\n",
    "    with open(file_path, 'r', encoding='utf-8') as file:\n",
    "        content = file.read().strip()\n",
    "\n",
    "    words = content.split()\n",
    "    if len(words) < check_words * 2:\n",
    "        return False  # File is too short for meaningful check\n",
    "\n",
    "    # Check the last 'check_words' against the preceding text\n",
    "    end_words = words[-check_words:]\n",
    "    preceding_text = ' '.join(words[:-check_words])\n",
    "\n",
    "    for i in range(len(end_words) - min_repeat_length + 1):\n",
    "        phrase = ' '.join(end_words[i:i+min_repeat_length])\n",
    "        if phrase in preceding_text:\n",
    "            # Found a repeating phrase, now check for extended repetition\n",
    "            extended_phrase = ' '.join(end_words[i:])\n",
    "            matches = sum(1 for word in extended_phrase.split() if word in preceding_text.split()[-len(extended_phrase.split()):])\n",
    "            if matches / len(extended_phrase.split()) >= repeat_threshold:\n",
    "                return True\n",
    "\n",
    "    return False\n",
    "\n",
    "def process_folder(folder_path):\n",
    "    looping_files = []\n",
    "    total_files = 0\n",
    "    \n",
    "    for filename in os.listdir(folder_path):\n",
    "        if filename.endswith('.txt'):\n",
    "            total_files += 1\n",
    "            file_path = os.path.join(folder_path, filename)\n",
    "            \n",
    "            try:\n",
    "                if check_transcription_looping(file_path):\n",
    "                    looping_files.append(filename)\n",
    "            except Exception as e:\n",
    "                print(f\"Error processing {filename}: {str(e)}\")\n",
    "    \n",
    "    return looping_files, total_files\n",
    "\n",
    "# Example usage\n",
    "folder_path = 'transcriptionsBG_internVL/txt/'\n",
    "looping_files, total_files = process_folder(folder_path)\n",
    "\n",
    "print(f\"Processed {total_files} files in total.\")\n",
    "print(f\"Number of files with potential transcription looping: {len(looping_files)}\")\n",
    "\n",
    "if looping_files:\n",
    "    print(\"\\nFiles with potential transcription looping:\")\n",
    "    for file in looping_files:\n",
    "        print(f\"- {file}\")\n",
    "else:\n",
    "    print(\"No transcription looping detected in any files.\")"
   ]
  },
  {
   "cell_type": "code",
   "execution_count": 8,
   "metadata": {},
   "outputs": [
    {
     "name": "stdout",
     "output_type": "stream",
     "text": [
      "\n",
      "Total files with the phrase: 0\n"
     ]
    }
   ],
   "source": [
    "import os\n",
    "\n",
    "folder_path = 'transcriptions_BGpixtral/txt/'\n",
    "counter = 0\n",
    "\n",
    "# Iterate over all the files in the folder\n",
    "for filename in os.listdir(folder_path):\n",
    "    file_path = os.path.join(folder_path, filename)\n",
    "    \n",
    "    # Check if the path is a file (not a folder)\n",
    "    if os.path.isfile(file_path):\n",
    "        # Open and read the file content\n",
    "        with open(file_path, 'r', encoding=\"utf-8\") as f:\n",
    "            content = f.read()\n",
    "\n",
    "        # Check if the phrase is in the content\n",
    "        if \"I'm sorry, I can't assist with that.\" in content:\n",
    "            counter += 1\n",
    "            print(f'File containing the phrase: {filename}')\n",
    "\n",
    "print(f'\\nTotal files with the phrase: {counter}')\n",
    "\n"
   ]
  },
  {
   "cell_type": "code",
   "execution_count": 33,
   "metadata": {},
   "outputs": [
    {
     "name": "stdout",
     "output_type": "stream",
     "text": [
      "File containing the phrase: 32044150448389_052.txt\n",
      "\n",
      "Total files with the phrase: 1\n"
     ]
    }
   ],
   "source": [
    "import os\n",
    "\n",
    "folder_path = 'transcriptionsBG_gptmini/txt/'\n",
    "counter = 0\n",
    "\n",
    "# Iterate over all the files in the folder\n",
    "for filename in os.listdir(folder_path):\n",
    "    file_path = os.path.join(folder_path, filename)\n",
    "    \n",
    "    # Check if the path is a file (not a folder)\n",
    "    if os.path.isfile(file_path):\n",
    "        # Open and read the file content\n",
    "        with open(file_path, 'r', encoding=\"utf-8\") as f:\n",
    "            content = f.read()\n",
    "\n",
    "        # Check if the phrase is in the content\n",
    "        if \"I'm sorry, but I can't assist with that.\" in content:\n",
    "            counter += 1\n",
    "            print(f'File containing the phrase: {filename}')\n",
    "\n",
    "print(f'\\nTotal files with the phrase: {counter}')"
   ]
  }
 ],
 "metadata": {
  "kernelspec": {
   "display_name": "Python 3",
   "language": "python",
   "name": "python3"
  },
  "language_info": {
   "codemirror_mode": {
    "name": "ipython",
    "version": 3
   },
   "file_extension": ".py",
   "mimetype": "text/x-python",
   "name": "python",
   "nbconvert_exporter": "python",
   "pygments_lexer": "ipython3",
   "version": "3.10.11"
  }
 },
 "nbformat": 4,
 "nbformat_minor": 2
}
