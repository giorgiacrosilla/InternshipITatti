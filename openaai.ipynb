{
  "nbformat": 4,
  "nbformat_minor": 0,
  "metadata": {
    "colab": {
      "provenance": [],
      "authorship_tag": "ABX9TyO/bIPoBtO086r8AJ/tIhFU"
    },
    "kernelspec": {
      "name": "python3",
      "display_name": "Python 3"
    },
    "language_info": {
      "name": "python"
    }
  },
  "cells": [
    {
      "cell_type": "code",
      "source": [
        "import requests\n",
        "import os\n",
        "\n",
        "# Define the base URL\n",
        "base_url = \"https://iiif.itatti.harvard.edu/iiif/2/bellegreene-full!32044150446383_00\"\n",
        "\n",
        "# Create a directory to store the images\n",
        "if not os.path.exists(\"images\"):\n",
        "  os.makedirs(\"images\")\n",
        "\n",
        "# Loop through the image numbers\n",
        "for i in range(1, 5):  # Assuming you have images 001 to 003\n",
        "  image_number = str(i)  # Pad the number with leading zeros\n",
        "  image_url = f\"{base_url}{image_number}.jpg/full/full/0/default.jpg\"\n",
        "  print(image_url)\n",
        "  # Download the image\n",
        "  response = requests.get(image_url)\n",
        "  if response.status_code == 200:\n",
        "    with open(f\"images/image_{image_number}.jpg\", \"wb\") as f:\n",
        "      f.write(response.content)\n",
        "    print(f\"Downloaded image: {image_number}\")\n",
        "  else:\n",
        "    print(f\"Failed to download image: {image_number}\")\n"
      ],
      "metadata": {
        "id": "qYkfWZ1TVqKf",
        "colab": {
          "base_uri": "https://localhost:8080/"
        },
        "outputId": "8678be41-80a3-4e2e-c48a-aa43931ab271"
      },
      "execution_count": 1,
      "outputs": [
        {
          "output_type": "stream",
          "name": "stdout",
          "text": [
            "https://iiif.itatti.harvard.edu/iiif/2/bellegreene-full!32044150446383_001.jpg/full/full/0/default.jpg\n",
            "Downloaded image: 1\n",
            "https://iiif.itatti.harvard.edu/iiif/2/bellegreene-full!32044150446383_002.jpg/full/full/0/default.jpg\n",
            "Downloaded image: 2\n",
            "https://iiif.itatti.harvard.edu/iiif/2/bellegreene-full!32044150446383_003.jpg/full/full/0/default.jpg\n",
            "Downloaded image: 3\n",
            "https://iiif.itatti.harvard.edu/iiif/2/bellegreene-full!32044150446383_004.jpg/full/full/0/default.jpg\n",
            "Downloaded image: 4\n"
          ]
        }
      ]
    },
    {
      "cell_type": "code",
      "source": [
        "!pip install -U openai"
      ],
      "metadata": {
        "colab": {
          "base_uri": "https://localhost:8080/"
        },
        "id": "f5Ya9UtVGtJB",
        "outputId": "a0e3494e-e9cb-4537-f86c-ecfaa6f03755"
      },
      "execution_count": 2,
      "outputs": [
        {
          "output_type": "stream",
          "name": "stdout",
          "text": [
            "Requirement already satisfied: openai in /usr/local/lib/python3.10/dist-packages (1.44.1)\n",
            "Requirement already satisfied: anyio<5,>=3.5.0 in /usr/local/lib/python3.10/dist-packages (from openai) (3.7.1)\n",
            "Requirement already satisfied: distro<2,>=1.7.0 in /usr/lib/python3/dist-packages (from openai) (1.7.0)\n",
            "Requirement already satisfied: httpx<1,>=0.23.0 in /usr/local/lib/python3.10/dist-packages (from openai) (0.27.2)\n",
            "Requirement already satisfied: jiter<1,>=0.4.0 in /usr/local/lib/python3.10/dist-packages (from openai) (0.5.0)\n",
            "Requirement already satisfied: pydantic<3,>=1.9.0 in /usr/local/lib/python3.10/dist-packages (from openai) (2.8.2)\n",
            "Requirement already satisfied: sniffio in /usr/local/lib/python3.10/dist-packages (from openai) (1.3.1)\n",
            "Requirement already satisfied: tqdm>4 in /usr/local/lib/python3.10/dist-packages (from openai) (4.66.5)\n",
            "Requirement already satisfied: typing-extensions<5,>=4.11 in /usr/local/lib/python3.10/dist-packages (from openai) (4.12.2)\n",
            "Requirement already satisfied: idna>=2.8 in /usr/local/lib/python3.10/dist-packages (from anyio<5,>=3.5.0->openai) (3.8)\n",
            "Requirement already satisfied: exceptiongroup in /usr/local/lib/python3.10/dist-packages (from anyio<5,>=3.5.0->openai) (1.2.2)\n",
            "Requirement already satisfied: certifi in /usr/local/lib/python3.10/dist-packages (from httpx<1,>=0.23.0->openai) (2024.8.30)\n",
            "Requirement already satisfied: httpcore==1.* in /usr/local/lib/python3.10/dist-packages (from httpx<1,>=0.23.0->openai) (1.0.5)\n",
            "Requirement already satisfied: h11<0.15,>=0.13 in /usr/local/lib/python3.10/dist-packages (from httpcore==1.*->httpx<1,>=0.23.0->openai) (0.14.0)\n",
            "Requirement already satisfied: annotated-types>=0.4.0 in /usr/local/lib/python3.10/dist-packages (from pydantic<3,>=1.9.0->openai) (0.7.0)\n",
            "Requirement already satisfied: pydantic-core==2.20.1 in /usr/local/lib/python3.10/dist-packages (from pydantic<3,>=1.9.0->openai) (2.20.1)\n"
          ]
        }
      ]
    },
    {
      "cell_type": "code",
      "source": [
        "from openai import OpenAI\n",
        "import os\n",
        "from IPython.display import Image, display, Audio, Markdown\n",
        "import base64\n",
        "\n",
        "# Initialize the OpenAI client with your API key\n",
        "client = OpenAI(api_key='')\n",
        "image_folder = \"images\"\n",
        "transcription_folder = \"transcriptions\"\n",
        "\n",
        "# Create the transcriptions folder if it doesn't exist\n",
        "if not os.path.exists(transcription_folder):\n",
        "  os.makedirs(transcription_folder)\n",
        "\n",
        "def encode_image(image_path):\n",
        "  with open(image_path, \"rb\") as image_file:\n",
        "    return base64.b64encode(image_file.read()).decode('utf-8')\n",
        "\n",
        "for filename in os.listdir(image_folder):\n",
        "  if filename.endswith(('.jpg', '.jpeg', '.png')):\n",
        "    image_path = os.path.join(image_folder, filename)\n",
        "\n",
        "    completion = client.chat.completions.create(\n",
        "      model=\"gpt-4o-mini\",\n",
        "      messages=[\n",
        "        {\n",
        "          \"role\": \"user\",\n",
        "          \"content\": [\n",
        "            {\"type\": \"text\", \"text\": \"Please provide only the transcription of the image\"},\n",
        "            {\n",
        "              \"type\": \"image_url\",\n",
        "              \"image_url\": {\n",
        "                \"url\": f\"data:image/jpeg;base64,{encode_image(image_path)}\"\n",
        "              }\n",
        "            }\n",
        "          ]\n",
        "        }\n",
        "      ],\n",
        "      max_tokens=300,\n",
        "    )\n",
        "\n",
        "    # Extract the transcription from the response\n",
        "    transcription = completion.choices[0].message.content\n",
        "\n",
        "    # Create a new file for the transcription\n",
        "    name, ext = os.path.splitext(filename)\n",
        "    transcription_file = os.path.join(transcription_folder, f\"{name}.txt\")\n",
        "\n",
        "    # Save the transcription to the file\n",
        "    with open(transcription_file, \"w\") as f:\n",
        "      f.write(transcription)\n",
        "\n",
        "    print(f\"Transcription saved to {transcription_file}\")\n"
      ],
      "metadata": {
        "colab": {
          "base_uri": "https://localhost:8080/"
        },
        "id": "E__Jvw7iE9kX",
        "outputId": "fd8992c5-3e77-4371-83d2-5856778bb035"
      },
      "execution_count": 9,
      "outputs": [
        {
          "output_type": "stream",
          "name": "stdout",
          "text": [
            "Transcription saved to transcriptions/image_2.txt\n",
            "Transcription saved to transcriptions/image_4.txt\n",
            "Transcription saved to transcriptions/image_3.txt\n",
            "Transcription saved to transcriptions/image_1.txt\n"
          ]
        }
      ]
    },
    {
      "cell_type": "code",
      "source": [
        "!unzip letters.zip"
      ],
      "metadata": {
        "colab": {
          "base_uri": "https://localhost:8080/"
        },
        "id": "r6BNxPnxUMbR",
        "outputId": "145038cf-8a6c-4eae-ab3d-226336a75fa0"
      },
      "execution_count": 10,
      "outputs": [
        {
          "output_type": "stream",
          "name": "stdout",
          "text": [
            "Archive:  letters.zip\n",
            "replace letters/00003_9.txt? [y]es, [n]o, [A]ll, [N]one, [r]ename: y\n",
            "  inflating: letters/00003_9.txt     \n",
            "replace __MACOSX/letters/._00003_9.txt? [y]es, [n]o, [A]ll, [N]one, [r]ename: a\n",
            "error:  invalid response [a]\n",
            "replace __MACOSX/letters/._00003_9.txt? [y]es, [n]o, [A]ll, [N]one, [r]ename: a\n",
            "error:  invalid response [a]\n",
            "replace __MACOSX/letters/._00003_9.txt? [y]es, [n]o, [A]ll, [N]one, [r]ename: \n",
            "error:  invalid response [{ENTER}]\n",
            "replace __MACOSX/letters/._00003_9.txt? [y]es, [n]o, [A]ll, [N]one, [r]ename: a\n",
            "error:  invalid response [a]\n",
            "replace __MACOSX/letters/._00003_9.txt? [y]es, [n]o, [A]ll, [N]one, [r]ename: a\n",
            "error:  invalid response [a]\n",
            "replace __MACOSX/letters/._00003_9.txt? [y]es, [n]o, [A]ll, [N]one, [r]ename: a\n",
            "error:  invalid response [a]\n",
            "replace __MACOSX/letters/._00003_9.txt? [y]es, [n]o, [A]ll, [N]one, [r]ename: a\n",
            "error:  invalid response [a]\n",
            "replace __MACOSX/letters/._00003_9.txt? [y]es, [n]o, [A]ll, [N]one, [r]ename: a\n",
            "error:  invalid response [a]\n",
            "replace __MACOSX/letters/._00003_9.txt? [y]es, [n]o, [A]ll, [N]one, [r]ename: a\n",
            "error:  invalid response [a]\n",
            "replace __MACOSX/letters/._00003_9.txt? [y]es, [n]o, [A]ll, [N]one, [r]ename: a\n",
            "error:  invalid response [a]\n",
            "replace __MACOSX/letters/._00003_9.txt? [y]es, [n]o, [A]ll, [N]one, [r]ename: a\n",
            "error:  invalid response [a]\n",
            "replace __MACOSX/letters/._00003_9.txt? [y]es, [n]o, [A]ll, [N]one, [r]ename: a\n",
            "error:  invalid response [a]\n",
            "replace __MACOSX/letters/._00003_9.txt? [y]es, [n]o, [A]ll, [N]one, [r]ename: a\n",
            "error:  invalid response [a]\n",
            "replace __MACOSX/letters/._00003_9.txt? [y]es, [n]o, [A]ll, [N]one, [r]ename: a\n",
            "error:  invalid response [a]\n",
            "replace __MACOSX/letters/._00003_9.txt? [y]es, [n]o, [A]ll, [N]one, [r]ename: a\n",
            "error:  invalid response [a]\n",
            "replace __MACOSX/letters/._00003_9.txt? [y]es, [n]o, [A]ll, [N]one, [r]ename: a\n",
            "error:  invalid response [a]\n",
            "replace __MACOSX/letters/._00003_9.txt? [y]es, [n]o, [A]ll, [N]one, [r]ename: a\n",
            "error:  invalid response [a]\n",
            "replace __MACOSX/letters/._00003_9.txt? [y]es, [n]o, [A]ll, [N]one, [r]ename: ay\n",
            "error:  invalid response [ay]\n",
            "replace __MACOSX/letters/._00003_9.txt? [y]es, [n]o, [A]ll, [N]one, [r]ename: y\n",
            "  inflating: __MACOSX/letters/._00003_9.txt  \n",
            "replace letters/00003_8.txt? [y]es, [n]o, [A]ll, [N]one, [r]ename: y\n",
            "  inflating: letters/00003_8.txt     \n",
            "replace __MACOSX/letters/._00003_8.txt? [y]es, [n]o, [A]ll, [N]one, [r]ename: y\n",
            "  inflating: __MACOSX/letters/._00003_8.txt  \n",
            "replace letters/00002_1.txt? [y]es, [n]o, [A]ll, [N]one, [r]ename: \n",
            "error:  invalid response [{ENTER}]\n",
            "replace letters/00002_1.txt? [y]es, [n]o, [A]ll, [N]one, [r]ename: y\n",
            "  inflating: letters/00002_1.txt     \n",
            "replace __MACOSX/letters/._00002_1.txt? [y]es, [n]o, [A]ll, [N]one, [r]ename: y\n",
            "  inflating: __MACOSX/letters/._00002_1.txt  \n",
            "replace letters/00004_5.txt? [y]es, [n]o, [A]ll, [N]one, [r]ename: y\n",
            "  inflating: letters/00004_5.txt     \n",
            "replace __MACOSX/letters/._00004_5.txt? [y]es, [n]o, [A]ll, [N]one, [r]ename: y\n",
            "  inflating: __MACOSX/letters/._00004_5.txt  \n",
            "replace letters/00004_4.txt? [y]es, [n]o, [A]ll, [N]one, [r]ename: \n",
            "error:  invalid response [{ENTER}]\n",
            "replace letters/00004_4.txt? [y]es, [n]o, [A]ll, [N]one, [r]ename: yy\n",
            "  inflating: letters/00004_4.txt     \n",
            "replace __MACOSX/letters/._00004_4.txt? [y]es, [n]o, [A]ll, [N]one, [r]ename: y\n",
            "  inflating: __MACOSX/letters/._00004_4.txt  \n",
            "replace letters/00004_1.txt? [y]es, [n]o, [A]ll, [N]one, [r]ename: y\n",
            "  inflating: letters/00004_1.txt     \n",
            "replace __MACOSX/letters/._00004_1.txt? [y]es, [n]o, [A]ll, [N]one, [r]ename: y\n",
            "  inflating: __MACOSX/letters/._00004_1.txt  \n",
            "replace letters/00004_3.txt? [y]es, [n]o, [A]ll, [N]one, [r]ename: y\n",
            "  inflating: letters/00004_3.txt     \n",
            "replace __MACOSX/letters/._00004_3.txt? [y]es, [n]o, [A]ll, [N]one, [r]ename: y\n",
            "  inflating: __MACOSX/letters/._00004_3.txt  \n",
            "replace letters/00004_2.txt? [y]es, [n]o, [A]ll, [N]one, [r]ename: y\n",
            "  inflating: letters/00004_2.txt     \n",
            "replace __MACOSX/letters/._00004_2.txt? [y]es, [n]o, [A]ll, [N]one, [r]ename: y\n",
            "  inflating: __MACOSX/letters/._00004_2.txt  \n",
            "replace letters/00001_1.txt? [y]es, [n]o, [A]ll, [N]one, [r]ename: y\n",
            "  inflating: letters/00001_1.txt     \n",
            "replace __MACOSX/letters/._00001_1.txt? [y]es, [n]o, [A]ll, [N]one, [r]ename: y\n",
            "  inflating: __MACOSX/letters/._00001_1.txt  \n",
            "replace letters/00003_3.txt? [y]es, [n]o, [A]ll, [N]one, [r]ename: y\n",
            "  inflating: letters/00003_3.txt     \n",
            "replace __MACOSX/letters/._00003_3.txt? [y]es, [n]o, [A]ll, [N]one, [r]ename: y\n",
            "  inflating: __MACOSX/letters/._00003_3.txt  \n",
            "replace letters/00003_2.txt? [y]es, [n]o, [A]ll, [N]one, [r]ename: y\n",
            "  inflating: letters/00003_2.txt     \n",
            "replace __MACOSX/letters/._00003_2.txt? [y]es, [n]o, [A]ll, [N]one, [r]ename: y\n",
            "  inflating: __MACOSX/letters/._00003_2.txt  \n",
            "replace letters/00001_2.txt? [y]es, [n]o, [A]ll, [N]one, [r]ename: y\n",
            "  inflating: letters/00001_2.txt     \n",
            "replace __MACOSX/letters/._00001_2.txt? [y]es, [n]o, [A]ll, [N]one, [r]ename: "
          ]
        }
      ]
    },
    {
      "cell_type": "code",
      "source": [
        "import os\n",
        "ground_truth_folder = \"letters\"\n",
        "contents = os.listdir(ground_truth_folder)\n",
        "\n",
        "# Print the contents of the directory\n",
        "# for item in contents:\n",
        "#     print(item)\n",
        "\n",
        "\n",
        "with open(os.path.join(ground_truth_folder, \"00001_1.txt\"), \"r\") as f:\n",
        "  print(f.read())"
      ],
      "metadata": {
        "colab": {
          "base_uri": "https://localhost:8080/"
        },
        "id": "EILWBWprUOg_",
        "outputId": "0b1571f2-33bf-49f9-f07d-e0c6ad0291ac"
      },
      "execution_count": 14,
      "outputs": [
        {
          "output_type": "stream",
          "name": "stdout",
          "text": [
            "Fev. 23\n",
            "Dear Mr. Berenson –\n",
            "I am so glad that you are going to be a real friend (than which there is no rarer thing in God’s world!) that\n",
            "I can almost forgive you for not lunching with me – for I must confess that I am really dreadfully disappointed about that for I did hope to have a quiet chat\n",
            "\n"
          ]
        }
      ]
    },
    {
      "cell_type": "code",
      "source": [
        "t_truth_folder = \"transcriptions\"\n",
        "with open(os.path.join(t_truth_folder, \"image_1.txt\"), \"r\") as f:\n",
        "  print(f.read())"
      ],
      "metadata": {
        "colab": {
          "base_uri": "https://localhost:8080/"
        },
        "id": "Th2tDp_8hpSp",
        "outputId": "2ebf5e44-44d7-45a7-c253-5a089c852541"
      },
      "execution_count": 15,
      "outputs": [
        {
          "output_type": "stream",
          "name": "stdout",
          "text": [
            "\n",
            "I can almost forgive you for that blundering bit of— I must confess that I am really dreadfully astonished about— but I did hope to hear a quiet about— \n",
            "\n",
            "Dear Mr. Pederson—\n",
            "\n",
            "I am so glad that you are going to see a real friend (than which there is no greater thing) \n",
            "\n"
          ]
        }
      ]
    },
    {
      "cell_type": "code",
      "source": [
        "!pip install fuzzywuzzy"
      ],
      "metadata": {
        "colab": {
          "base_uri": "https://localhost:8080/"
        },
        "id": "wbgkq2roibF4",
        "outputId": "228d716a-86ae-4241-d1b6-ffa1609a0c09"
      },
      "execution_count": 16,
      "outputs": [
        {
          "output_type": "stream",
          "name": "stdout",
          "text": [
            "Collecting fuzzywuzzy\n",
            "  Downloading fuzzywuzzy-0.18.0-py2.py3-none-any.whl.metadata (4.9 kB)\n",
            "Downloading fuzzywuzzy-0.18.0-py2.py3-none-any.whl (18 kB)\n",
            "Installing collected packages: fuzzywuzzy\n",
            "Successfully installed fuzzywuzzy-0.18.0\n"
          ]
        }
      ]
    }
  ]
}